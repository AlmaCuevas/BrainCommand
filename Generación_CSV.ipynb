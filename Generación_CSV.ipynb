{
  "nbformat": 4,
  "nbformat_minor": 0,
  "metadata": {
    "colab": {
      "provenance": []
    },
    "kernelspec": {
      "name": "python3",
      "display_name": "Python 3"
    },
    "language_info": {
      "name": "python"
    }
  },
  "cells": [
    {
      "cell_type": "code",
      "execution_count": 1,
      "metadata": {
        "id": "hPq3leT3UQDe"
      },
      "outputs": [],
      "source": [
        "import pandas as pd\n",
        "import scipy as sp\n",
        "import ast\n",
        "import numpy as np\n",
        "import os\n",
        "import csv"
      ]
    },
    {
      "cell_type": "code",
      "source": [
        "# Reparacion de texto a lista\n",
        "def str_to_list (string):\n",
        "  string=string.strip().strip(\"[]\")\n",
        "  string=string.split(\",\")\n",
        "  nlist=[float(item.strip().strip(\"'\")) for item in string]\n",
        "  return nlist\n"
      ],
      "metadata": {
        "id": "ppUWFcEU1WB-"
      },
      "execution_count": 2,
      "outputs": []
    },
    {
      "cell_type": "code",
      "source": [
        "# Cuenta repeticiones de direcciones en matriz de direcciones\n",
        "def dir_count (turns):\n",
        "  arriba=0\n",
        "  abajo=0\n",
        "  izquierda=0\n",
        "  derecha=0\n",
        "  for i in range (len(turns)):\n",
        "    for j in range (len(turns[i])):\n",
        "      if turns[i][j]==0:\n",
        "        arriba=arriba+1\n",
        "      elif turns[i][j]==1:\n",
        "        abajo=abajo+1\n",
        "      elif turns[i][j]==2:\n",
        "        izquierda=izquierda+1\n",
        "      elif turns[i][j]==3:\n",
        "        derecha=derecha+1\n",
        "  turn_count=[arriba,abajo,izquierda,derecha]\n",
        "  return turn_count"
      ],
      "metadata": {
        "id": "l9wR9ANRo9R8"
      },
      "execution_count": 3,
      "outputs": []
    },
    {
      "cell_type": "code",
      "source": [
        "def writeincsv (mat,csvfile):\n",
        "  with open(csvfile, 'w', newline='') as database:\n",
        "    writer = csv.writer(database)\n",
        "    writer.writerows(mat)"
      ],
      "metadata": {
        "id": "j1m8tddjqslu"
      },
      "execution_count": 4,
      "outputs": []
    },
    {
      "cell_type": "code",
      "source": [
        "# funcion principal\n",
        "def txt_import (url,file_n):\n",
        "  with open(url, 'r') as file:\n",
        "    for line in file:\n",
        "        key, value = line.strip().split(',', 1)\n",
        "        if key.strip() == 'game_mode':\n",
        "            game_mode = value\n",
        "        elif key.strip() == 'player1_id':\n",
        "            player1_id = value\n",
        "        elif key.strip() == 'player2_id':\n",
        "            player2_id = value\n",
        "        elif key.strip() == 'game_id':\n",
        "            game_id = value\n",
        "        elif key.strip() == 'total_game_time':\n",
        "            total_game_time = value\n",
        "            total_game_time=str_to_list(total_game_time)\n",
        "            total_game_time=np.sum(total_game_time)\n",
        "        elif key.strip() == 'cookie_winner':\n",
        "            cookie_winner = value\n",
        "            cookie_winner=str_to_list(cookie_winner)\n",
        "            cw1=0\n",
        "            cw2=0\n",
        "            for i in cookie_winner:\n",
        "              if i ==1:\n",
        "                cw1 += 1\n",
        "              elif i==2:\n",
        "                cw2 +=1\n",
        "        elif key.strip() == 'player_1_turns':\n",
        "            player_1_turns = value\n",
        "            player_1_turns = ast.literal_eval(player_1_turns)\n",
        "            p1_turns=dir_count(player_1_turns)\n",
        "            p1_arr=p1_turns[0]\n",
        "            p1_aba=p1_turns[1]\n",
        "            p1_izq=p1_turns[2]\n",
        "            p1_der=p1_turns[3]\n",
        "        elif key.strip() == 'player_2_turns':\n",
        "            player_2_turns = value\n",
        "            player_2_turns = ast.literal_eval(player_2_turns)\n",
        "            p2_turns=dir_count(player_2_turns)\n",
        "            p2_arr=p2_turns[0]\n",
        "            p2_aba=p2_turns[1]\n",
        "            p2_izq=p2_turns[2]\n",
        "            p2_der=p2_turns[3]\n",
        "    p1_mat=[player1_id,game_id,game_mode,total_game_time,cw1,p1_arr,p1_aba,p1_izq,p1_der]\n",
        "    p2_mat=[player2_id,game_id,game_mode,total_game_time,cw2,p2_arr,p2_aba,p2_izq,p2_der]\n",
        "    mast_mat=[p1_mat,p2_mat]\n",
        "    dat=np.array(mast_mat)\n",
        "    df=pd.DataFrame(dat)\n",
        "    df.to_csv(file_n, mode='a', header=False, index=False)"
      ],
      "metadata": {
        "id": "5ZCTs_Olb6hS"
      },
      "execution_count": 40,
      "outputs": []
    },
    {
      "cell_type": "code",
      "source": [
        "file_path=\"/content/drive/MyDrive/Colab Notebooks/txt_files/\" # en esta linea cambiar por el directorio de los archivos txt\n",
        "file_names=os.listdir(file_path)\n",
        "labels=[\"Player id\",\"Game id\",\"Game Mode\",\"Game Time\",\"Number of Wins\",\"Up\",\"Down\",\"Left\",\"Right\"]\n",
        "with open('result_database.csv', 'w', newline='') as database:\n",
        "    writer = csv.writer(database)\n",
        "    writer.writerow(labels)\n",
        "for i in file_names:\n",
        "  url=file_path+i\n",
        "  datos=txt_import(url,'result_database.csv')"
      ],
      "metadata": {
        "id": "Yo_sMGuqaJEE"
      },
      "execution_count": 55,
      "outputs": []
    }
  ]
}